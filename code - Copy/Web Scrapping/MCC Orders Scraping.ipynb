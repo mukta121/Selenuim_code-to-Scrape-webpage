{
 "cells": [
  {
   "cell_type": "code",
   "execution_count": 32,
   "metadata": {},
   "outputs": [],
   "source": [
    "#!pip install selenium\n",
    "from selenium import webdriver\n",
    "from selenium.webdriver.common.keys import Keys\n",
    "from selenium.webdriver.common.by import By\n",
    "from selenium.webdriver.support.ui import WebDriverWait\n",
    "from selenium.webdriver.support import expected_conditions as EC\n",
    "import re\n",
    "import pandas as pd\n",
    "import time\n",
    "import json\n",
    "import os\n",
    "import shutil\n",
    "import sys\n",
    "sys.path.insert(0,'/usr/lib/chromium-browser/chromedriver')\n",
    "\n",
    "\n",
    "#project_path = 'C:\\\\Users\\\\C889009\\\\Downloads\\\\Web Scraping'\n",
    "#os.chdir(project_path)\n"
   ]
  },
  {
   "cell_type": "code",
   "execution_count": 33,
   "metadata": {},
   "outputs": [],
   "source": [
    "chrome_options = webdriver.ChromeOptions()\n",
    "# chrome_options.add_argument('--headless')\n",
    "# chrome_options.add_argument('--no-sandbox')\n",
    "# chrome_options.add_argument('--disable-dev-shm-usage')\n",
    "\n",
    "#This is the folder where all the files will be downloaded\n",
    "# Chromedriver.exe should be placed in this folder\n",
    "\n",
    "folder_path = \"D:\\\\Office\\\\AbInBev\\\\Ops-Analytics\\\\ABI_Projects\\\\2021_Projects\\\\Projects\\\\MCC\\\\MCC Recon\\\\Code\\\\Web Scrapping\\\\\"\n",
    "download_path = \"D:\\\\Office\\\\AbInBev\\\\Ops-Analytics\\\\ABI_Projects\\\\2021_Projects\\\\Projects\\\\MCC\\\\MCC Recon\\\\\""
   ]
  },
  {
   "cell_type": "code",
   "execution_count": 34,
   "metadata": {},
   "outputs": [],
   "source": [
    "from selenium import webdriver\n",
    "import json\n",
    "\n",
    "settings = {\n",
    "       \"recentDestinations\": [{\n",
    "            \"id\": \"Save as PDF\",\n",
    "            \"origin\": \"local\",\n",
    "            \"account\": \"\",\n",
    "        }],\n",
    "        \"selectedDestinationId\": \"Save as PDF\",\n",
    "        \"version\": 2\n",
    "    }\n",
    "prefs = {'printing.print_preview_sticky_settings.appState': json.dumps(settings),\n",
    "        'savefile.default_directory': folder_path,\n",
    "        'download.default_directory' : folder_path}\n",
    "chrome_options.add_experimental_option('prefs', prefs)\n",
    "chrome_options.add_argument('--kiosk-printing')\n"
   ]
  },
  {
   "cell_type": "markdown",
   "metadata": {},
   "source": [
    "### APS Orders by Date Range"
   ]
  },
  {
   "cell_type": "code",
   "execution_count": 35,
   "metadata": {},
   "outputs": [],
   "source": [
    "#Enter date rage in M/D/YY Format - Example: for First April 2021, enter \"4/1/21\"\n",
    "\n",
    "start_date =  '5/1/21'\n",
    "end_date = '5/10/21'"
   ]
  },
  {
   "cell_type": "code",
   "execution_count": 36,
   "metadata": {},
   "outputs": [
    {
     "name": "stderr",
     "output_type": "stream",
     "text": [
      "C:\\Users\\DELL\\Anaconda3\\lib\\site-packages\\ipykernel_launcher.py:1: DeprecationWarning: use options instead of chrome_options\n",
      "  \"\"\"Entry point for launching an IPython kernel.\n"
     ]
    }
   ],
   "source": [
    "driver = webdriver.Chrome(executable_path=folder_path +\"chromedriver.exe\",chrome_options=chrome_options,)\n",
    "\n",
    "url = \"https://www.pbgremit.com/natbill/login.jsp\"\n",
    "#driver = webdriver.Chrome(executable_path=\"D:/chromedriver.exe\")\n",
    "#driver.set_window_position(-10000,0)\n",
    "driver.get(url)\n",
    "u = driver.find_element_by_name('j_username') \n",
    "u.send_keys('01-008677')\n",
    "\n",
    "wait = WebDriverWait(driver, 10)\n",
    "\n",
    "u = driver.find_element_by_name('j_password')\n",
    "u.send_keys('PBGPORTAL1')\n",
    "\n",
    "u = driver.find_element_by_name(\"Login\")\n",
    "u.click()\n",
    "\n",
    "time.sleep(3) \n",
    "\n",
    "\n",
    "#u = driver.find_element(By.XPATH, '//table/tbody/tr/td/table[1]/tbody/tr/td[3]/a')\n",
    "u = driver.find_element(By.XPATH, '/html/body/form/table/tbody/tr/td/table/tbody/tr[6]/td/table/tbody/tr/td/table[1]/tbody/tr[3]/td[2]/table[1]/tbody/tr[6]/td[2]/input')\n",
    "u.click()\n",
    "\n",
    "time.sleep(2)    \n",
    "\n",
    "u = driver.find_element(By.XPATH, '/html/body/table/tbody/tr/td/table[1]/tbody/tr/td[4]/a/img')\n",
    "u.click()\n",
    "\n",
    "\n",
    "u = driver.find_element_by_name(\"startDate\")\n",
    "u.send_keys(start_date)\n",
    "u = driver.find_element_by_name(\"endDate\")\n",
    "u.send_keys(end_date)\n",
    "\n",
    "time.sleep(2) \n",
    "\n",
    "u = driver.find_element(By.XPATH, '//table/tbody/tr/td/form/div/table/tbody/tr/td[1]/input')\n",
    "u.click()\n",
    "\n",
    "time.sleep(2) \n",
    "\n",
    "u = driver.find_element(By.XPATH, '//table/tbody/tr/td/form[2]/input[2]')\n",
    "u.click()\n",
    "\n",
    "time.sleep(10) \n",
    "\n",
    "driver.quit()"
   ]
  },
  {
   "cell_type": "markdown",
   "metadata": {},
   "source": [
    "### APS Orders by invoice Number"
   ]
  },
  {
   "cell_type": "code",
   "execution_count": null,
   "metadata": {},
   "outputs": [],
   "source": [
    "# l = [982982711,196892711,196482711,197413711,351582711,112803711,441772711,834782711,801033711,382862711,978613711,141933711,626282711]\n",
    "# # l = [197413711]"
   ]
  },
  {
   "cell_type": "code",
   "execution_count": null,
   "metadata": {},
   "outputs": [],
   "source": [
    "l=pd.read_csv(\"recon_pepsi_underpayment.csv\")\n",
    "l = l[['INV#/APS#']]"
   ]
  },
  {
   "cell_type": "code",
   "execution_count": null,
   "metadata": {},
   "outputs": [],
   "source": [
    "l.head(1)"
   ]
  },
  {
   "cell_type": "code",
   "execution_count": null,
   "metadata": {
    "scrolled": true
   },
   "outputs": [],
   "source": [
    "All_inv = pd.DataFrame()\n",
    "\n",
    "driver = webdriver.Chrome(executable_path=folder_path +\"chromedriver.exe\",chrome_options=chrome_options,)\n",
    "\n",
    "url = \"https://www.pbgremit.com/natbill/login.jsp\"\n",
    "#driver = webdriver.Chrome(executable_path=\"D:/chromedriver.exe\")\n",
    "#driver.set_window_position(-10000,0)\n",
    "driver.get(url)\n",
    "u = driver.find_element_by_name('j_username') \n",
    "u.send_keys('01-008677')\n",
    "\n",
    "wait = WebDriverWait(driver, 10)\n",
    "\n",
    "u = driver.find_element_by_name('j_password')\n",
    "u.send_keys('PBGPORTAL1')\n",
    "\n",
    "time.sleep(1) \n",
    "\n",
    "\n",
    "u = driver.find_element(By.XPATH,'//tbody/tr/td/table/tbody/tr[6]/td/table/tbody/tr/td/table[1]/tbody/tr[3]/td[2]/table[1]/tbody/tr[6]/td[2]/input')\n",
    "\n",
    "u.click()\n",
    "\n",
    "time.sleep(4) \n",
    "\n",
    "for invoice in l[\"INV#/APS#\"]:\n",
    "    \n",
    "    u = driver.find_element(By.XPATH, '//table/tbody/tr/td/table[1]/tbody/tr/td[3]/a')\n",
    "    u.click()\n",
    "\n",
    "    time.sleep(1)\n",
    "    \n",
    "    u = driver.find_element(By.XPATH,\"/html/body/table/tbody/tr/td/form/div/table/tbody/tr/td[2]/input[1]\")\n",
    "    u.send_keys(invoice)\n",
    "    u = driver.find_element(By.XPATH, '//table/tbody/tr/td/form/div/table/tbody/tr/td[2]/input[2]')\n",
    "    u.click()\n",
    "\n",
    "    time.sleep(1)\n",
    "    \n",
    "\n",
    "\n",
    "\n",
    "    dfs = pd.read_html(driver.page_source)\n",
    "    items = dfs[11]\n",
    "    items = items.iloc[1:,:]\n",
    "    new_header = items.iloc[0] \n",
    "    items = items[1:] \n",
    "    items.columns = new_header\n",
    "    items[\"Invoice_No\"] = invoice\n",
    "\n",
    "    totals = dfs[14]\n",
    "    totals=totals.iloc[2:,2:].T\n",
    "    new_header = totals.iloc[0] \n",
    "    totals = totals[1:] \n",
    "    totals.columns = new_header\n",
    "    totals[\"Invoice_No\"] = invoice\n",
    "\n",
    "    full_inv = items.merge(totals,how=\"left\",on=\"Invoice_No\")\n",
    "    All_inv = All_inv.append(full_inv)\n",
    "    All_inv = All_inv.reset_index(drop=True)\n",
    "    time.sleep(1)\n",
    "\n",
    "    driver.execute_script('window.print();')\n",
    "    \n",
    "    time.sleep(1)\n",
    "    \n",
    "    filename = folder_path + \"Supplier Portal.pdf\"\n",
    "    shutil.move(filename,os.path.join(folder_path,r\"{}.pdf\".format(invoice)))\n",
    "    \n",
    "driver.quit()\n",
    "\n",
    "# tables=WebDriverWait(driver,20).until(EC.presence_of_all_elements_located((By.XPATH,\"//table/tbody/tr/td/table[3]/tbody/tr/td/table/tbody/tr[2]/td/table/tbody/tr/td/table\")))\n",
    "# for table in tables:\n",
    "#     for row in table.find_elements_by_xpath(\".//tr\"):\n",
    "#         headers.append(row.find_element_by_xpath('./td').get_attribute('textContent'))\n",
    "#         body.append(row.find_element_by_xpath('./tr').get_attribute('textContent'))\n",
    "# driver.execute_script()\n"
   ]
  },
  {
   "cell_type": "code",
   "execution_count": null,
   "metadata": {},
   "outputs": [],
   "source": [
    "All_inv.shape\n",
    "All_inv.dropna(inplace=True)\n",
    "All_inv.shape\n"
   ]
  },
  {
   "cell_type": "code",
   "execution_count": null,
   "metadata": {},
   "outputs": [],
   "source": [
    "All_inv = All_inv[All_inv['Line#'].apply(lambda x: str(x).isdigit())]"
   ]
  },
  {
   "cell_type": "code",
   "execution_count": null,
   "metadata": {},
   "outputs": [],
   "source": [
    "All_inv.to_excel(\"APS Orders by Invoice Number.xlsx\",index=False)"
   ]
  },
  {
   "cell_type": "code",
   "execution_count": null,
   "metadata": {},
   "outputs": [],
   "source": []
  }
 ],
 "metadata": {
  "kernelspec": {
   "display_name": "Python 3",
   "language": "python",
   "name": "python3"
  },
  "language_info": {
   "codemirror_mode": {
    "name": "ipython",
    "version": 3
   },
   "file_extension": ".py",
   "mimetype": "text/x-python",
   "name": "python",
   "nbconvert_exporter": "python",
   "pygments_lexer": "ipython3",
   "version": "3.7.4"
  }
 },
 "nbformat": 4,
 "nbformat_minor": 2
}
